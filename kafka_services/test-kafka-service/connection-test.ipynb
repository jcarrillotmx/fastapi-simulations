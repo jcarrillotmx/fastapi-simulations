{
 "cells": [
  {
   "cell_type": "code",
   "execution_count": 20,
   "metadata": {},
   "outputs": [
    {
     "name": "stdout",
     "output_type": "stream",
     "text": [
      "Successfully connected to MySQL database!\n",
      "    name_1  channel_01   name_2  channel_02   name_3  channel_03   name_4  \\\n",
      "0  Canal 1       96.61  Canal 2      114.64  Canal 3      118.33  Canal 4   \n",
      "\n",
      "   channel_04   name_5  channel_05  \n",
      "0      130.21  Canal 5       139.7  \n"
     ]
    }
   ],
   "source": [
    "from sqlalchemy import create_engine\n",
    "from urllib.parse import quote_plus\n",
    "import pandas as pd\n",
    "# Connection parameters\n",
    "host = '192.168.3.102'\n",
    "user = 'devturingmx'\n",
    "password = quote_plus('des@rrollo')  # URL encode the password\n",
    "database = 'sistema_monitoreo'  # Changed database name to sistema_monitoreo\n",
    "\n",
    "# Create connection URL\n",
    "connection_url = f'mysql+pymysql://{user}:{password}@{host}/{database}'\n",
    "\n",
    "try:\n",
    "    # Create the engine\n",
    "    engine = create_engine(connection_url)\n",
    "    \n",
    "    # Test the connection\n",
    "    with engine.connect() as connection:\n",
    "        print(\"Successfully connected to MySQL database!\")\n",
    "        \n",
    "        # Query to get all tables in the schema\n",
    "        # query = \"SHOW TABLES\"\n",
    "        # query = \"SELECT * FROM fgenerador1_data ORDER BY id DESC LIMIT 1\"\n",
    "        query = \"SELECT name_1, channel_01, name_2, channel_02, name_3, channel_03, name_4, channel_04, name_5, channel_05 FROM fgenerador1_data ORDER BY id DESC LIMIT 1\"\n",
    "        tables = pd.read_sql(query, connection)\n",
    "\n",
    "        \n",
    "        print(tables);\n",
    "        \n",
    "        # print(\"\\nTables in the database:\")\n",
    "        # # Get table names as a list and print them\n",
    "        # table_list = tables.iloc[:, 0].tolist()\n",
    "        # for table in table_list:\n",
    "        #     print(f\"- {table}\")\n",
    "            \n",
    "except Exception as e:\n",
    "    print(f\"Error connecting to database: {e}\")"
   ]
  },
  {
   "cell_type": "code",
   "execution_count": null,
   "metadata": {},
   "outputs": [],
   "source": []
  }
 ],
 "metadata": {
  "kernelspec": {
   "display_name": ".venv",
   "language": "python",
   "name": "python3"
  },
  "language_info": {
   "codemirror_mode": {
    "name": "ipython",
    "version": 3
   },
   "file_extension": ".py",
   "mimetype": "text/x-python",
   "name": "python",
   "nbconvert_exporter": "python",
   "pygments_lexer": "ipython3",
   "version": "3.13.5"
  }
 },
 "nbformat": 4,
 "nbformat_minor": 2
}
