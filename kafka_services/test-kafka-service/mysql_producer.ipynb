{
 "cells": [
  {
   "cell_type": "code",
   "execution_count": 21,
   "id": "bbdb53cf",
   "metadata": {},
   "outputs": [
    {
     "name": "stdout",
     "output_type": "stream",
     "text": [
      "/Users/ovillajc/Documents/Desarrollo/python/fast_api/rigcore_simulator/.venv/bin/python\n",
      "Sent data: {'id': 2440, 'timestamp': '2025-06-01T23:59:00', 'rig_config_id': 1, 'session_timestamp': '2025-06-05T00:00:00', 'channel_01': 96.61, 'name_1': 'Canal 1', 'unit_01': 'g/cm³', 'channel_02': 114.64, 'name_2': 'Canal 2', 'unit_02': 'ft', 'channel_03': 118.33, 'name_3': 'Canal 3', 'unit_03': 'ft', 'channel_04': 130.21, 'name_4': 'Canal 4', 'unit_04': 'l', 'channel_05': 139.7, 'name_5': 'Canal 5', 'unit_05': 'm³/h', 'channel_06': 149.52, 'name_6': 'Canal 6', 'unit_06': '°F', 'channel_07': 157.9, 'name_7': 'Canal 7', 'unit_07': 'm³/h', 'channel_08': 167.34, 'name_8': 'Canal 8', 'unit_08': 'l', 'channel_09': 182.2, 'name_9': 'Canal 9', 'unit_09': '°F', 'channel_10': 188.56, 'name_10': 'Canal 10', 'unit_10': 'scaled', 'channel_11': 198.65, 'name_11': 'Canal 11', 'unit_11': 'rpm', 'channel_12': 209.6, 'name_12': 'Canal 12', 'unit_12': 'deg/s', 'channel_13': 216.41, 'name_13': 'Canal 13', 'unit_13': 'l/min', 'channel_14': 229.19, 'name_14': 'Canal 14', 'unit_14': 'kg', 'channel_15': 239.49, 'name_15': 'Canal 15', 'unit_15': 'kg', 'channel_16': 254.29, 'name_16': 'Canal 16', 'unit_16': 'deg/s', 'channel_17': 260.24, 'name_17': 'Canal 17', 'unit_17': 'l', 'channel_18': 270.7, 'name_18': 'Canal 18', 'unit_18': 'l/min'}\n",
      "Sent data: {'id': 2440, 'timestamp': '2025-06-01T23:59:00', 'rig_config_id': 1, 'session_timestamp': '2025-06-05T00:00:00', 'channel_01': 96.61, 'name_1': 'Canal 1', 'unit_01': 'g/cm³', 'channel_02': 114.64, 'name_2': 'Canal 2', 'unit_02': 'ft', 'channel_03': 118.33, 'name_3': 'Canal 3', 'unit_03': 'ft', 'channel_04': 130.21, 'name_4': 'Canal 4', 'unit_04': 'l', 'channel_05': 139.7, 'name_5': 'Canal 5', 'unit_05': 'm³/h', 'channel_06': 149.52, 'name_6': 'Canal 6', 'unit_06': '°F', 'channel_07': 157.9, 'name_7': 'Canal 7', 'unit_07': 'm³/h', 'channel_08': 167.34, 'name_8': 'Canal 8', 'unit_08': 'l', 'channel_09': 182.2, 'name_9': 'Canal 9', 'unit_09': '°F', 'channel_10': 188.56, 'name_10': 'Canal 10', 'unit_10': 'scaled', 'channel_11': 198.65, 'name_11': 'Canal 11', 'unit_11': 'rpm', 'channel_12': 209.6, 'name_12': 'Canal 12', 'unit_12': 'deg/s', 'channel_13': 216.41, 'name_13': 'Canal 13', 'unit_13': 'l/min', 'channel_14': 229.19, 'name_14': 'Canal 14', 'unit_14': 'kg', 'channel_15': 239.49, 'name_15': 'Canal 15', 'unit_15': 'kg', 'channel_16': 254.29, 'name_16': 'Canal 16', 'unit_16': 'deg/s', 'channel_17': 260.24, 'name_17': 'Canal 17', 'unit_17': 'l', 'channel_18': 270.7, 'name_18': 'Canal 18', 'unit_18': 'l/min'}\n",
      "Sent data: {'id': 2440, 'timestamp': '2025-06-01T23:59:00', 'rig_config_id': 1, 'session_timestamp': '2025-06-05T00:00:00', 'channel_01': 96.61, 'name_1': 'Canal 1', 'unit_01': 'g/cm³', 'channel_02': 114.64, 'name_2': 'Canal 2', 'unit_02': 'ft', 'channel_03': 118.33, 'name_3': 'Canal 3', 'unit_03': 'ft', 'channel_04': 130.21, 'name_4': 'Canal 4', 'unit_04': 'l', 'channel_05': 139.7, 'name_5': 'Canal 5', 'unit_05': 'm³/h', 'channel_06': 149.52, 'name_6': 'Canal 6', 'unit_06': '°F', 'channel_07': 157.9, 'name_7': 'Canal 7', 'unit_07': 'm³/h', 'channel_08': 167.34, 'name_8': 'Canal 8', 'unit_08': 'l', 'channel_09': 182.2, 'name_9': 'Canal 9', 'unit_09': '°F', 'channel_10': 188.56, 'name_10': 'Canal 10', 'unit_10': 'scaled', 'channel_11': 198.65, 'name_11': 'Canal 11', 'unit_11': 'rpm', 'channel_12': 209.6, 'name_12': 'Canal 12', 'unit_12': 'deg/s', 'channel_13': 216.41, 'name_13': 'Canal 13', 'unit_13': 'l/min', 'channel_14': 229.19, 'name_14': 'Canal 14', 'unit_14': 'kg', 'channel_15': 239.49, 'name_15': 'Canal 15', 'unit_15': 'kg', 'channel_16': 254.29, 'name_16': 'Canal 16', 'unit_16': 'deg/s', 'channel_17': 260.24, 'name_17': 'Canal 17', 'unit_17': 'l', 'channel_18': 270.7, 'name_18': 'Canal 18', 'unit_18': 'l/min'}\n",
      "Sent data: {'id': 2440, 'timestamp': '2025-06-01T23:59:00', 'rig_config_id': 1, 'session_timestamp': '2025-06-05T00:00:00', 'channel_01': 96.61, 'name_1': 'Canal 1', 'unit_01': 'g/cm³', 'channel_02': 114.64, 'name_2': 'Canal 2', 'unit_02': 'ft', 'channel_03': 118.33, 'name_3': 'Canal 3', 'unit_03': 'ft', 'channel_04': 130.21, 'name_4': 'Canal 4', 'unit_04': 'l', 'channel_05': 139.7, 'name_5': 'Canal 5', 'unit_05': 'm³/h', 'channel_06': 149.52, 'name_6': 'Canal 6', 'unit_06': '°F', 'channel_07': 157.9, 'name_7': 'Canal 7', 'unit_07': 'm³/h', 'channel_08': 167.34, 'name_8': 'Canal 8', 'unit_08': 'l', 'channel_09': 182.2, 'name_9': 'Canal 9', 'unit_09': '°F', 'channel_10': 188.56, 'name_10': 'Canal 10', 'unit_10': 'scaled', 'channel_11': 198.65, 'name_11': 'Canal 11', 'unit_11': 'rpm', 'channel_12': 209.6, 'name_12': 'Canal 12', 'unit_12': 'deg/s', 'channel_13': 216.41, 'name_13': 'Canal 13', 'unit_13': 'l/min', 'channel_14': 229.19, 'name_14': 'Canal 14', 'unit_14': 'kg', 'channel_15': 239.49, 'name_15': 'Canal 15', 'unit_15': 'kg', 'channel_16': 254.29, 'name_16': 'Canal 16', 'unit_16': 'deg/s', 'channel_17': 260.24, 'name_17': 'Canal 17', 'unit_17': 'l', 'channel_18': 270.7, 'name_18': 'Canal 18', 'unit_18': 'l/min'}\n"
     ]
    },
    {
     "ename": "KeyboardInterrupt",
     "evalue": "",
     "output_type": "error",
     "traceback": [
      "\u001b[31m---------------------------------------------------------------------------\u001b[39m",
      "\u001b[31mKeyboardInterrupt\u001b[39m                         Traceback (most recent call last)",
      "\u001b[36mCell\u001b[39m\u001b[36m \u001b[39m\u001b[32mIn[21]\u001b[39m\u001b[32m, line 52\u001b[39m\n\u001b[32m     49\u001b[39m         time.sleep(\u001b[32m1\u001b[39m)\n\u001b[32m     51\u001b[39m \u001b[38;5;28;01mif\u001b[39;00m \u001b[34m__name__\u001b[39m == \u001b[33m\"\u001b[39m\u001b[33m__main__\u001b[39m\u001b[33m\"\u001b[39m:\n\u001b[32m---> \u001b[39m\u001b[32m52\u001b[39m     \u001b[43mmain\u001b[49m\u001b[43m(\u001b[49m\u001b[43m)\u001b[49m\n",
      "\u001b[36mCell\u001b[39m\u001b[36m \u001b[39m\u001b[32mIn[21]\u001b[39m\u001b[32m, line 49\u001b[39m, in \u001b[36mmain\u001b[39m\u001b[34m()\u001b[39m\n\u001b[32m     47\u001b[39m \u001b[38;5;28;01mwhile\u001b[39;00m \u001b[38;5;28;01mTrue\u001b[39;00m:\n\u001b[32m     48\u001b[39m     fetch_and_send_data()\n\u001b[32m---> \u001b[39m\u001b[32m49\u001b[39m     \u001b[43mtime\u001b[49m\u001b[43m.\u001b[49m\u001b[43msleep\u001b[49m\u001b[43m(\u001b[49m\u001b[32;43m1\u001b[39;49m\u001b[43m)\u001b[49m\n",
      "\u001b[31mKeyboardInterrupt\u001b[39m: "
     ]
    }
   ],
   "source": [
    "from sqlalchemy import create_engine, text\n",
    "from urllib.parse import quote_plus\n",
    "from kafka import KafkaProducer\n",
    "import json\n",
    "import time\n",
    "import datetime\n",
    "\n",
    "import sys\n",
    "print(sys.executable)\n",
    "\n",
    "# MySQL Connection\n",
    "host = '192.168.3.102'\n",
    "user = 'devturingmx'\n",
    "password = quote_plus('des@rrollo')\n",
    "database = 'sistema_monitoreo'\n",
    "\n",
    "# Create SQLAlchemy engine\n",
    "connection_url = f'mysql+pymysql://{user}:{password}@{host}/{database}'\n",
    "engine = create_engine(connection_url)\n",
    "\n",
    "# Initialize Kafka producer\n",
    "producer = KafkaProducer(\n",
    "    bootstrap_servers=['localhost:9092'],\n",
    "    value_serializer=lambda x: json.dumps(x).encode('utf-8')\n",
    ")\n",
    "\n",
    "def fetch_and_send_data():\n",
    "    try:\n",
    "        query = \"SELECT * FROM fgenerador1_data ORDER BY id DESC LIMIT 1\"\n",
    "        with engine.connect() as connection:\n",
    "            # Añadimos text ya que sqlalchemy no es compatible directamente con cadenas de texto\n",
    "            result = connection.execute(text(query)).fetchone()\n",
    "            if result:\n",
    "                # Modificamos data para convertir manualmete el timestamp por que json.dumps no puede convertirlo automaticamente\n",
    "                data = {\n",
    "                key: (value.isoformat() if isinstance(value, (datetime.datetime, datetime.date)) else value)\n",
    "                for key, value in dict(result._mapping).items()\n",
    "                }\n",
    "                \n",
    "                producer.send('rigcore-data', value=data)\n",
    "                producer.flush()\n",
    "                print(f\"Sent data: {data}\")\n",
    "    except Exception as e:\n",
    "        print(f\"Error: {e}\")\n",
    "\n",
    "def main():\n",
    "    while True:\n",
    "        fetch_and_send_data()\n",
    "        time.sleep(1)\n",
    "\n",
    "if __name__ == \"__main__\":\n",
    "    main()"
   ]
  },
  {
   "cell_type": "code",
   "execution_count": 22,
   "id": "ed81fb10",
   "metadata": {},
   "outputs": [
    {
     "name": "stdout",
     "output_type": "stream",
     "text": [
      "Escuchando mensajes en el topic 'rigcore-data'...\n",
      "Mensaje recibido: {'id': 2440, 'timestamp': '2025-06-01T23:59:00', 'rig_config_id': 1, 'session_timestamp': '2025-06-05T00:00:00', 'channel_01': 96.61, 'name_1': 'Canal 1', 'unit_01': 'g/cm³', 'channel_02': 114.64, 'name_2': 'Canal 2', 'unit_02': 'ft', 'channel_03': 118.33, 'name_3': 'Canal 3', 'unit_03': 'ft', 'channel_04': 130.21, 'name_4': 'Canal 4', 'unit_04': 'l', 'channel_05': 139.7, 'name_5': 'Canal 5', 'unit_05': 'm³/h', 'channel_06': 149.52, 'name_6': 'Canal 6', 'unit_06': '°F', 'channel_07': 157.9, 'name_7': 'Canal 7', 'unit_07': 'm³/h', 'channel_08': 167.34, 'name_8': 'Canal 8', 'unit_08': 'l', 'channel_09': 182.2, 'name_9': 'Canal 9', 'unit_09': '°F', 'channel_10': 188.56, 'name_10': 'Canal 10', 'unit_10': 'scaled', 'channel_11': 198.65, 'name_11': 'Canal 11', 'unit_11': 'rpm', 'channel_12': 209.6, 'name_12': 'Canal 12', 'unit_12': 'deg/s', 'channel_13': 216.41, 'name_13': 'Canal 13', 'unit_13': 'l/min', 'channel_14': 229.19, 'name_14': 'Canal 14', 'unit_14': 'kg', 'channel_15': 239.49, 'name_15': 'Canal 15', 'unit_15': 'kg', 'channel_16': 254.29, 'name_16': 'Canal 16', 'unit_16': 'deg/s', 'channel_17': 260.24, 'name_17': 'Canal 17', 'unit_17': 'l', 'channel_18': 270.7, 'name_18': 'Canal 18', 'unit_18': 'l/min'}\n",
      "Mensaje recibido: {'id': 2440, 'timestamp': '2025-06-01T23:59:00', 'rig_config_id': 1, 'session_timestamp': '2025-06-05T00:00:00', 'channel_01': 96.61, 'name_1': 'Canal 1', 'unit_01': 'g/cm³', 'channel_02': 114.64, 'name_2': 'Canal 2', 'unit_02': 'ft', 'channel_03': 118.33, 'name_3': 'Canal 3', 'unit_03': 'ft', 'channel_04': 130.21, 'name_4': 'Canal 4', 'unit_04': 'l', 'channel_05': 139.7, 'name_5': 'Canal 5', 'unit_05': 'm³/h', 'channel_06': 149.52, 'name_6': 'Canal 6', 'unit_06': '°F', 'channel_07': 157.9, 'name_7': 'Canal 7', 'unit_07': 'm³/h', 'channel_08': 167.34, 'name_8': 'Canal 8', 'unit_08': 'l', 'channel_09': 182.2, 'name_9': 'Canal 9', 'unit_09': '°F', 'channel_10': 188.56, 'name_10': 'Canal 10', 'unit_10': 'scaled', 'channel_11': 198.65, 'name_11': 'Canal 11', 'unit_11': 'rpm', 'channel_12': 209.6, 'name_12': 'Canal 12', 'unit_12': 'deg/s', 'channel_13': 216.41, 'name_13': 'Canal 13', 'unit_13': 'l/min', 'channel_14': 229.19, 'name_14': 'Canal 14', 'unit_14': 'kg', 'channel_15': 239.49, 'name_15': 'Canal 15', 'unit_15': 'kg', 'channel_16': 254.29, 'name_16': 'Canal 16', 'unit_16': 'deg/s', 'channel_17': 260.24, 'name_17': 'Canal 17', 'unit_17': 'l', 'channel_18': 270.7, 'name_18': 'Canal 18', 'unit_18': 'l/min'}\n",
      "Mensaje recibido: {'id': 2440, 'timestamp': '2025-06-01T23:59:00', 'rig_config_id': 1, 'session_timestamp': '2025-06-05T00:00:00', 'channel_01': 96.61, 'name_1': 'Canal 1', 'unit_01': 'g/cm³', 'channel_02': 114.64, 'name_2': 'Canal 2', 'unit_02': 'ft', 'channel_03': 118.33, 'name_3': 'Canal 3', 'unit_03': 'ft', 'channel_04': 130.21, 'name_4': 'Canal 4', 'unit_04': 'l', 'channel_05': 139.7, 'name_5': 'Canal 5', 'unit_05': 'm³/h', 'channel_06': 149.52, 'name_6': 'Canal 6', 'unit_06': '°F', 'channel_07': 157.9, 'name_7': 'Canal 7', 'unit_07': 'm³/h', 'channel_08': 167.34, 'name_8': 'Canal 8', 'unit_08': 'l', 'channel_09': 182.2, 'name_9': 'Canal 9', 'unit_09': '°F', 'channel_10': 188.56, 'name_10': 'Canal 10', 'unit_10': 'scaled', 'channel_11': 198.65, 'name_11': 'Canal 11', 'unit_11': 'rpm', 'channel_12': 209.6, 'name_12': 'Canal 12', 'unit_12': 'deg/s', 'channel_13': 216.41, 'name_13': 'Canal 13', 'unit_13': 'l/min', 'channel_14': 229.19, 'name_14': 'Canal 14', 'unit_14': 'kg', 'channel_15': 239.49, 'name_15': 'Canal 15', 'unit_15': 'kg', 'channel_16': 254.29, 'name_16': 'Canal 16', 'unit_16': 'deg/s', 'channel_17': 260.24, 'name_17': 'Canal 17', 'unit_17': 'l', 'channel_18': 270.7, 'name_18': 'Canal 18', 'unit_18': 'l/min'}\n",
      "Mensaje recibido: {'id': 2440, 'timestamp': '2025-06-01T23:59:00', 'rig_config_id': 1, 'session_timestamp': '2025-06-05T00:00:00', 'channel_01': 96.61, 'name_1': 'Canal 1', 'unit_01': 'g/cm³', 'channel_02': 114.64, 'name_2': 'Canal 2', 'unit_02': 'ft', 'channel_03': 118.33, 'name_3': 'Canal 3', 'unit_03': 'ft', 'channel_04': 130.21, 'name_4': 'Canal 4', 'unit_04': 'l', 'channel_05': 139.7, 'name_5': 'Canal 5', 'unit_05': 'm³/h', 'channel_06': 149.52, 'name_6': 'Canal 6', 'unit_06': '°F', 'channel_07': 157.9, 'name_7': 'Canal 7', 'unit_07': 'm³/h', 'channel_08': 167.34, 'name_8': 'Canal 8', 'unit_08': 'l', 'channel_09': 182.2, 'name_9': 'Canal 9', 'unit_09': '°F', 'channel_10': 188.56, 'name_10': 'Canal 10', 'unit_10': 'scaled', 'channel_11': 198.65, 'name_11': 'Canal 11', 'unit_11': 'rpm', 'channel_12': 209.6, 'name_12': 'Canal 12', 'unit_12': 'deg/s', 'channel_13': 216.41, 'name_13': 'Canal 13', 'unit_13': 'l/min', 'channel_14': 229.19, 'name_14': 'Canal 14', 'unit_14': 'kg', 'channel_15': 239.49, 'name_15': 'Canal 15', 'unit_15': 'kg', 'channel_16': 254.29, 'name_16': 'Canal 16', 'unit_16': 'deg/s', 'channel_17': 260.24, 'name_17': 'Canal 17', 'unit_17': 'l', 'channel_18': 270.7, 'name_18': 'Canal 18', 'unit_18': 'l/min'}\n",
      "\n",
      "Lectura interrumpida por el usuario.\n",
      "Consumer cerrado correctamente.\n"
     ]
    }
   ],
   "source": [
    "from kafka import KafkaConsumer\n",
    "import json\n",
    "import time\n",
    "\n",
    "# Configuracion del consumidor\n",
    "consumer = KafkaConsumer(\n",
    "    'rigcore-data',\n",
    "    bootstrap_servers='localhost:9092',\n",
    "    auto_offset_reset='latest',\n",
    "    enable_auto_commit=True,     \n",
    "    group_id='rigcore-consumer-group',\n",
    "    value_deserializer=lambda x: json.loads(x.decode('utf-8'))\n",
    ")\n",
    "\n",
    "print(\"Escuchando mensajes en el topic 'rigcore-data'...\")\n",
    "\n",
    "try:\n",
    "    for message in consumer:\n",
    "        data = message.value\n",
    "        print(f\"Mensaje recibido: {data}\")\n",
    "        time.sleep(1)\n",
    "except KeyboardInterrupt:\n",
    "    print(\"\\nLectura interrumpida por el usuario.\")\n",
    "finally:\n",
    "    consumer.close()\n",
    "    print(\"Consumer cerrado correctamente.\")"
   ]
  }
 ],
 "metadata": {
  "kernelspec": {
   "display_name": ".venv",
   "language": "python",
   "name": "python3"
  },
  "language_info": {
   "codemirror_mode": {
    "name": "ipython",
    "version": 3
   },
   "file_extension": ".py",
   "mimetype": "text/x-python",
   "name": "python",
   "nbconvert_exporter": "python",
   "pygments_lexer": "ipython3",
   "version": "3.13.5"
  }
 },
 "nbformat": 4,
 "nbformat_minor": 5
}
